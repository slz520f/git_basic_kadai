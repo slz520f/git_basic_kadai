{
  "nbformat": 4,
  "nbformat_minor": 0,
  "metadata": {
    "colab": {
      "provenance": []
    },
    "kernelspec": {
      "name": "python3",
      "display_name": "Python 3"
    },
    "language_info": {
      "name": "python"
    }
  },
  "cells": [
    {
      "cell_type": "code",
      "source": [
        "top_length = 15\n",
        "bottom_length = 20\n",
        "height = 5\n",
        "area = (top_length+bottom_length)*height/2\n",
        "print(str(area)+\"c㎡\")"
      ],
      "metadata": {
        "colab": {
          "base_uri": "https://localhost:8080/"
        },
        "id": "dYshksIdWrZV",
        "outputId": "ea5b4037-d318-4958-9410-31e990748542"
      },
      "execution_count": 9,
      "outputs": [
        {
          "output_type": "stream",
          "name": "stdout",
          "text": [
            "87.5c㎡\n"
          ]
        }
      ]
    }
  ]
}